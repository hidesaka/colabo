{
  "nbformat": 4,
  "nbformat_minor": 0,
  "metadata": {
    "colab": {
      "name": "oekaki.ipynb",
      "provenance": [],
      "collapsed_sections": [],
      "authorship_tag": "ABX9TyOSjpwioNEIZtQJsn1uP6Wl",
      "include_colab_link": true
    },
    "kernelspec": {
      "name": "python3",
      "display_name": "Python 3"
    }
  },
  "cells": [
    {
      "cell_type": "markdown",
      "metadata": {
        "id": "view-in-github",
        "colab_type": "text"
      },
      "source": [
        "<a href=\"https://colab.research.google.com/github/hidesaka/colabo/blob/master/oekaki.ipynb\" target=\"_parent\"><img src=\"https://colab.research.google.com/assets/colab-badge.svg\" alt=\"Open In Colab\"/></a>"
      ]
    },
    {
      "cell_type": "code",
      "metadata": {
        "id": "bfMEStKSCev1",
        "colab": {
          "base_uri": "https://localhost:8080/",
          "height": 34
        },
        "outputId": "896c4f0e-9c73-4f40-e3af-024b55a45597"
      },
      "source": [
        "from google.colab import drive\n",
        "drive.mount('/content/drive')"
      ],
      "execution_count": null,
      "outputs": [
        {
          "output_type": "stream",
          "text": [
            "Mounted at /content/drive\n"
          ],
          "name": "stdout"
        }
      ]
    },
    {
      "cell_type": "code",
      "metadata": {
        "id": "7K4nZ4YUGn9O",
        "colab": {
          "base_uri": "https://localhost:8080/",
          "height": 269
        },
        "outputId": "e0ed89d3-5458-45dc-8d82-613ae4114b8e"
      },
      "source": [
        "import numpy as np\n",
        "import cv2\n",
        "import matplotlib.pyplot as plt\n",
        "\n",
        "\n",
        "maru = np.zeros((256,256,256),np.float32)\n",
        "\n",
        "for i in range(256):\n",
        "  maru[i,:,:] = cv2.circle(maru[i,:,:],(np.int(128+np.cos(i/256*8*np.pi)*100),np.int(128+np.sin(i/256*8*np.pi)*100)),20,1,-1)\n",
        "\n",
        "\n",
        "plt.imshow(maru[30,:,:] , cmap ='gray')\n",
        "plt.show\n",
        "\n",
        "pd_mapping = np.zeros((256,256,256),np.float32)\n",
        "t1_mapping = np.zeros((256,256,256),np.float32)\n",
        "t2_mapping = np.zeros((256,256,256),np.float32)\n",
        "\n",
        "pd_mapping = 610.0*maru\n",
        "t1_mapping = -358.0*maru+868.0\n",
        "t2_mapping = 20*maru+47.0\n",
        "\n",
        "pd_mapping.tofile('drive/My Drive/MRIsimu/phantom/SlicePhantom/pd2x.flt')\n",
        "t1_mapping.tofile('drive/My Drive/MRIsimu/phantom/SlicePhantom/t12x.flt')\n",
        "t2_mapping.tofile('drive/My Drive/MRIsimu/phantom/SlicePhantom/t22x.flt')\n"
      ],
      "execution_count": null,
      "outputs": [
        {
          "output_type": "display_data",
          "data": {
            "image/png": "[encoded data removed]",
            "text/plain": [
              "<Figure size 432x288 with 1 Axes>"
            ]
          },
          "metadata": {
            "tags": [],
            "needs_background": "light"
          }
        }
      ]
    },
    {
      "cell_type": "markdown",
      "metadata": {
        "id": "Pq8zbWqXbOoE"
      },
      "source": [
        "np.ndarray.tofile()\n",
        "P65\n",
        "白質　t1 510 t2 67 N(H)0.61\n",
        "配列を掛ける\n",
        "fft swap"
      ]
    },
    {
      "cell_type": "code",
      "metadata": {
        "id": "j4bkxQW3bdLo"
      },
      "source": [
        "np.ndarray.tofile()"
      ],
      "execution_count": null,
      "outputs": []
    }
  ]
}